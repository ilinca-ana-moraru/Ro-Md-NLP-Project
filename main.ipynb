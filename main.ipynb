{
 "cells": [
  {
   "cell_type": "code",
   "execution_count": 11,
   "metadata": {},
   "outputs": [],
   "source": [
    "import pandas as pd\n",
    "\n",
    "\n"
   ]
  },
  {
   "cell_type": "code",
   "execution_count": 18,
   "metadata": {},
   "outputs": [],
   "source": [
    "categoryIndex = {\n",
    "    'agriculture' :1,\n",
    "    'cultural' : 2,\n",
    "    'parenting' : 3,\n",
    "    'sport' : 4,\n",
    "    'travel' : 5\n",
    "}\n",
    "\n",
    "ro_df = pd.DataFrame(columns=['category','siteIdx', 'text'])\n",
    "\n",
    "ro_df_agriculture = pd.read_csv('RO/agricultureRo.csv')\n",
    "ro_df_agriculture['category'] = categoryIndex['agriculture']\n",
    "ro_df = pd.concat([ro_df[['category', 'siteIdx', 'text']], ro_df_agriculture[['category', 'siteIdx', 'text']]], ignore_index=True)\n",
    "\n",
    "ro_df_cultural = pd.read_csv('RO/culturalRo.csv')\n",
    "ro_df_cultural['category'] = categoryIndex['cultural']\n",
    "ro_df = pd.concat([ro_df[['category', 'siteIdx', 'text']], ro_df_cultural[['category', 'siteIdx', 'text']]], ignore_index=True)\n",
    "\n",
    "ro_df_parenting = pd.read_csv('RO/parentingRo.csv')\n",
    "ro_df_parenting['category'] = categoryIndex['parenting']\n",
    "ro_df = pd.concat([ro_df[['category', 'siteIdx', 'text']], ro_df_parenting[['category', 'siteIdx', 'text']]], ignore_index=True)\n",
    "\n",
    "ro_df_sport = pd.read_csv('RO/sportRo.csv')\n",
    "ro_df_sport['category'] = categoryIndex['sport']\n",
    "ro_df = pd.concat([ro_df[['category', 'siteIdx', 'text']], ro_df_sport[['category', 'siteIdx', 'text']]], ignore_index=True)\n",
    "\n",
    "ro_df_travel = pd.read_csv('RO/travelRo.csv')\n",
    "ro_df_travel['category'] = categoryIndex['travel']\n",
    "ro_df = pd.concat([ro_df[['category', 'siteIdx', 'text']], ro_df_travel[['category', 'siteIdx', 'text']]], ignore_index=True)\n",
    "\n",
    "ro_df.to_csv('RomanianTexts.csv', index=False)\n",
    "\n",
    "md_df = pd.DataFrame(columns=['category','siteIdx', 'text'])\n",
    "\n",
    "md_df_agriculture = pd.read_csv('MD/agricultureMd.csv')\n",
    "md_df_agriculture['category'] = categoryIndex['agriculture']\n",
    "md_df = pd.concat([md_df[['category', 'siteIdx', 'text']], md_df_agriculture[['category', 'siteIdx', 'text']]], ignore_index=True)\n",
    "\n",
    "md_df_cultural = pd.read_csv('MD/culturalMd.csv')\n",
    "md_df_cultural['category'] = categoryIndex['cultural']\n",
    "md_df = pd.concat([md_df[['category', 'siteIdx', 'text']], md_df_cultural[['category', 'siteIdx', 'text']]], ignore_index=True)\n",
    "\n",
    "md_df_parenting = pd.read_csv('MD/parentingMd.csv')\n",
    "md_df_parenting['category'] = categoryIndex['parenting']\n",
    "md_df = pd.concat([md_df[['category', 'siteIdx', 'text']], md_df_parenting[['category', 'siteIdx', 'text']]], ignore_index=True)\n",
    "\n",
    "md_df_sport = pd.read_csv('MD/sportMd.csv')\n",
    "md_df_sport['category'] = categoryIndex['sport']\n",
    "md_df = pd.concat([md_df[['category', 'siteIdx', 'text']], md_df_sport[['category', 'siteIdx', 'text']]], ignore_index=True)\n",
    "\n",
    "md_df_travel = pd.read_csv('MD/travelMd.csv')\n",
    "md_df_travel['category'] = categoryIndex['travel']\n",
    "md_df = pd.concat([md_df[['category', 'siteIdx', 'text']], md_df_travel[['category', 'siteIdx', 'text']]], ignore_index=True)\n",
    "md_df.to_csv('MoldovanTexts.csv', index=False)"
   ]
  },
  {
   "cell_type": "code",
   "execution_count": 19,
   "metadata": {},
   "outputs": [],
   "source": [
    "from nltk.tokenize import word_tokenize\n",
    "print(word_tokenize(ro_df[0]))"
   ]
  }
 ],
 "metadata": {
  "kernelspec": {
   "display_name": "Python 3",
   "language": "python",
   "name": "python3"
  },
  "language_info": {
   "codemirror_mode": {
    "name": "ipython",
    "version": 3
   },
   "file_extension": ".py",
   "mimetype": "text/x-python",
   "name": "python",
   "nbconvert_exporter": "python",
   "pygments_lexer": "ipython3",
   "version": "3.11.9"
  }
 },
 "nbformat": 4,
 "nbformat_minor": 2
}
